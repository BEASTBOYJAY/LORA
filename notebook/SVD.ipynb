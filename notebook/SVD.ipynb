{
  "nbformat": 4,
  "nbformat_minor": 0,
  "metadata": {
    "colab": {
      "provenance": []
    },
    "kernelspec": {
      "name": "python3",
      "display_name": "Python 3"
    },
    "language_info": {
      "name": "python"
    }
  },
  "cells": [
    {
      "cell_type": "markdown",
      "source": [
        "# **Single Value Decomposition**"
      ],
      "metadata": {
        "id": "JXojjUMaJnCQ"
      }
    },
    {
      "cell_type": "code",
      "source": [
        "! pip install torch"
      ],
      "metadata": {
        "colab": {
          "base_uri": "https://localhost:8080/"
        },
        "collapsed": true,
        "id": "jD8SleJkpKn9",
        "outputId": "09de5bfe-0627-4d62-b03a-0e7687fde607"
      },
      "execution_count": 1,
      "outputs": [
        {
          "output_type": "stream",
          "name": "stdout",
          "text": [
            "Requirement already satisfied: torch in /usr/local/lib/python3.11/dist-packages (2.5.1+cu121)\n",
            "Requirement already satisfied: filelock in /usr/local/lib/python3.11/dist-packages (from torch) (3.17.0)\n",
            "Requirement already satisfied: typing-extensions>=4.8.0 in /usr/local/lib/python3.11/dist-packages (from torch) (4.12.2)\n",
            "Requirement already satisfied: networkx in /usr/local/lib/python3.11/dist-packages (from torch) (3.4.2)\n",
            "Requirement already satisfied: jinja2 in /usr/local/lib/python3.11/dist-packages (from torch) (3.1.5)\n",
            "Requirement already satisfied: fsspec in /usr/local/lib/python3.11/dist-packages (from torch) (2024.10.0)\n",
            "Requirement already satisfied: nvidia-cuda-nvrtc-cu12==12.1.105 in /usr/local/lib/python3.11/dist-packages (from torch) (12.1.105)\n",
            "Requirement already satisfied: nvidia-cuda-runtime-cu12==12.1.105 in /usr/local/lib/python3.11/dist-packages (from torch) (12.1.105)\n",
            "Requirement already satisfied: nvidia-cuda-cupti-cu12==12.1.105 in /usr/local/lib/python3.11/dist-packages (from torch) (12.1.105)\n",
            "Requirement already satisfied: nvidia-cudnn-cu12==9.1.0.70 in /usr/local/lib/python3.11/dist-packages (from torch) (9.1.0.70)\n",
            "Requirement already satisfied: nvidia-cublas-cu12==12.1.3.1 in /usr/local/lib/python3.11/dist-packages (from torch) (12.1.3.1)\n",
            "Requirement already satisfied: nvidia-cufft-cu12==11.0.2.54 in /usr/local/lib/python3.11/dist-packages (from torch) (11.0.2.54)\n",
            "Requirement already satisfied: nvidia-curand-cu12==10.3.2.106 in /usr/local/lib/python3.11/dist-packages (from torch) (10.3.2.106)\n",
            "Requirement already satisfied: nvidia-cusolver-cu12==11.4.5.107 in /usr/local/lib/python3.11/dist-packages (from torch) (11.4.5.107)\n",
            "Requirement already satisfied: nvidia-cusparse-cu12==12.1.0.106 in /usr/local/lib/python3.11/dist-packages (from torch) (12.1.0.106)\n",
            "Requirement already satisfied: nvidia-nccl-cu12==2.21.5 in /usr/local/lib/python3.11/dist-packages (from torch) (2.21.5)\n",
            "Requirement already satisfied: nvidia-nvtx-cu12==12.1.105 in /usr/local/lib/python3.11/dist-packages (from torch) (12.1.105)\n",
            "Requirement already satisfied: triton==3.1.0 in /usr/local/lib/python3.11/dist-packages (from torch) (3.1.0)\n",
            "Requirement already satisfied: sympy==1.13.1 in /usr/local/lib/python3.11/dist-packages (from torch) (1.13.1)\n",
            "Requirement already satisfied: nvidia-nvjitlink-cu12 in /usr/local/lib/python3.11/dist-packages (from nvidia-cusolver-cu12==11.4.5.107->torch) (12.8.61)\n",
            "Requirement already satisfied: mpmath<1.4,>=1.1.0 in /usr/local/lib/python3.11/dist-packages (from sympy==1.13.1->torch) (1.3.0)\n",
            "Requirement already satisfied: MarkupSafe>=2.0 in /usr/local/lib/python3.11/dist-packages (from jinja2->torch) (3.0.2)\n"
          ]
        }
      ]
    },
    {
      "cell_type": "code",
      "execution_count": 2,
      "metadata": {
        "id": "dV5FtaI65sKG"
      },
      "outputs": [],
      "source": [
        "import torch\n",
        "import numpy as np\n",
        "_ = torch.manual_seed(0)"
      ]
    },
    {
      "cell_type": "markdown",
      "source": [
        "## **Generating a rank-deficient matrix W**"
      ],
      "metadata": {
        "id": "1gRo1NWRpS_v"
      }
    },
    {
      "cell_type": "code",
      "source": [
        "d, k = 10, 10 # will be generating 10x10 matrix\n",
        "\n",
        "# This way we can generate a rank-deficient matrix\n",
        "W_rank = 2 # rank of the matrix\n",
        "W = torch.randn(d,W_rank) @ torch.randn(W_rank,k)\n",
        "print(W)"
      ],
      "metadata": {
        "colab": {
          "base_uri": "https://localhost:8080/"
        },
        "id": "eGWzvDDNpJOk",
        "outputId": "202451cb-6976-4a0d-be15-3321bba815d1"
      },
      "execution_count": 3,
      "outputs": [
        {
          "output_type": "stream",
          "name": "stdout",
          "text": [
            "tensor([[-1.0797,  0.5545,  0.8058, -0.7140, -0.1518,  1.0773,  2.3690,  0.8486,\n",
            "         -1.1825, -3.2632],\n",
            "        [-0.3303,  0.2283,  0.4145, -0.1924, -0.0215,  0.3276,  0.7926,  0.2233,\n",
            "         -0.3422, -0.9614],\n",
            "        [-0.5256,  0.9864,  2.4447, -0.0290,  0.2305,  0.5000,  1.9831, -0.0311,\n",
            "         -0.3369, -1.1376],\n",
            "        [ 0.7900, -1.1336, -2.6746,  0.1988, -0.1982, -0.7634, -2.5763, -0.1696,\n",
            "          0.6227,  1.9294],\n",
            "        [ 0.1258,  0.1458,  0.5090,  0.1768,  0.1071, -0.1327, -0.0323, -0.2294,\n",
            "          0.2079,  0.5128],\n",
            "        [ 0.7697,  0.0050,  0.5725,  0.6870,  0.2783, -0.7818, -1.2253, -0.8533,\n",
            "          0.9765,  2.5786],\n",
            "        [ 1.4157, -0.7814, -1.2121,  0.9120,  0.1760, -1.4108, -3.1692, -1.0791,\n",
            "          1.5325,  4.2447],\n",
            "        [-0.0119,  0.6050,  1.7245,  0.2584,  0.2528, -0.0086,  0.7198, -0.3620,\n",
            "          0.1865,  0.3410],\n",
            "        [ 1.0485, -0.6394, -1.0715,  0.6485,  0.1046, -1.0427, -2.4174, -0.7615,\n",
            "          1.1147,  3.1054],\n",
            "        [ 0.9088,  0.1936,  1.2136,  0.8946,  0.4084, -0.9295, -1.2294, -1.1239,\n",
            "          1.2155,  3.1628]])\n"
          ]
        }
      ]
    },
    {
      "cell_type": "markdown",
      "source": [
        "## **Evaluate the rank of the matrix W**"
      ],
      "metadata": {
        "id": "0lD651kbH7Qa"
      }
    },
    {
      "cell_type": "code",
      "source": [
        "W_rank = np.linalg.matrix_rank(W)\n",
        "print(f'Rank of W: {W_rank}') # verifying the rank"
      ],
      "metadata": {
        "colab": {
          "base_uri": "https://localhost:8080/"
        },
        "id": "2rCJKscKH2_X",
        "outputId": "f61286ac-977f-40fa-8257-823503e39800"
      },
      "execution_count": 4,
      "outputs": [
        {
          "output_type": "stream",
          "name": "stdout",
          "text": [
            "Rank of W: 2\n"
          ]
        }
      ]
    },
    {
      "cell_type": "markdown",
      "source": [
        "## **Calculate the SVD decomposition of the W matrix.**"
      ],
      "metadata": {
        "id": "jkWqNOwOIDI0"
      }
    },
    {
      "cell_type": "code",
      "source": [
        "# Perform SVD on W (W = UxSxV^T)\n",
        "U, S, V = torch.linalg.svd(W)\n",
        "\n",
        "# For rank-r factorization, keep only the first r singular values (and corresponding columns of U and V)\n",
        "U_r = U[:, :W_rank]\n",
        "S_r = torch.diag(S[:W_rank])\n",
        "V_r = V[:, :W_rank].t()  # Transpose V_r to get the right dimensions\n",
        "\n",
        "# Compute B = U_r * S_r and A = V_r\n",
        "B = U_r @ S_r\n",
        "A = V_r\n",
        "print(f'Shape of B: {B.shape}')\n",
        "print(f'Shape of A: {A.shape}')"
      ],
      "metadata": {
        "colab": {
          "base_uri": "https://localhost:8080/"
        },
        "id": "2m4wdqtiIA8T",
        "outputId": "5c1145b6-7efc-4238-bedc-b7f4cc9a36ef"
      },
      "execution_count": 8,
      "outputs": [
        {
          "output_type": "stream",
          "name": "stdout",
          "text": [
            "Shape of B: torch.Size([10, 2])\n",
            "Shape of A: torch.Size([2, 10])\n"
          ]
        }
      ]
    },
    {
      "cell_type": "markdown",
      "source": [
        "\n",
        "\n",
        "## **Given the same input, check the output using the original W matrix and the matrices resulting from the decomposition.**\n"
      ],
      "metadata": {
        "id": "KugLh9kZILF1"
      }
    },
    {
      "cell_type": "code",
      "source": [
        "# Generate random bias and input\n",
        "bias = torch.randn(d)\n",
        "x = torch.randn(d)\n",
        "\n",
        "# Compute y = Wx + bias\n",
        "y = W @ x + bias\n",
        "# Compute y' = (B*A)x + bias\n",
        "y_prime = (B @ A) @ x + bias\n",
        "\n",
        "print(\"Original y using W:\\n\", y)\n",
        "print(\"\")\n",
        "print(\"y' computed using BA:\\n\", y_prime)"
      ],
      "metadata": {
        "colab": {
          "base_uri": "https://localhost:8080/"
        },
        "id": "Sum6-5ydII11",
        "outputId": "54db6c8f-5492-4945-a679-e279f7c20abd"
      },
      "execution_count": 6,
      "outputs": [
        {
          "output_type": "stream",
          "name": "stdout",
          "text": [
            "Original y using W:\n",
            " tensor([ 7.2684e+00,  2.3162e+00,  7.7151e+00, -1.0446e+01, -8.1639e-03,\n",
            "        -3.7270e+00, -1.1146e+01,  2.0207e+00, -9.6258e+00, -4.1163e+00])\n",
            "\n",
            "y' computed using BA:\n",
            " tensor([ 7.2684e+00,  2.3162e+00,  7.7151e+00, -1.0446e+01, -8.1638e-03,\n",
            "        -3.7270e+00, -1.1146e+01,  2.0207e+00, -9.6258e+00, -4.1163e+00])\n"
          ]
        }
      ]
    },
    {
      "cell_type": "code",
      "source": [
        "print(\"Total parameters of W: \", W.nelement())\n",
        "print(\"Total parameters of B and A: \", B.nelement() + A.nelement())"
      ],
      "metadata": {
        "colab": {
          "base_uri": "https://localhost:8080/"
        },
        "id": "eSyRHZNdINb2",
        "outputId": "b980ccce-af0a-40f5-d430-a9802ddce13d"
      },
      "execution_count": 9,
      "outputs": [
        {
          "output_type": "stream",
          "name": "stdout",
          "text": [
            "Total parameters of W:  100\n",
            "Total parameters of B and A:  40\n"
          ]
        }
      ]
    },
    {
      "cell_type": "code",
      "source": [],
      "metadata": {
        "id": "4n6N8mPqJRRI"
      },
      "execution_count": null,
      "outputs": []
    }
  ]
}